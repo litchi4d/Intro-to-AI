{
 "cells": [
  {
   "cell_type": "code",
   "execution_count": 1,
   "id": "b25e65c4-83aa-4e8d-b848-688d14e156b7",
   "metadata": {},
   "outputs": [
    {
     "name": "stdout",
     "output_type": "stream",
     "text": [
      "Requirement already satisfied: scipy in /home/litchi4d/.config/jupyterlab-desktop/jlab_server/lib/python3.12/site-packages (1.14.1)\n",
      "Requirement already satisfied: numpy<2.3,>=1.23.5 in /home/litchi4d/.config/jupyterlab-desktop/jlab_server/lib/python3.12/site-packages (from scipy) (2.1.0)\n"
     ]
    }
   ],
   "source": [
    "!pip3 install scipy"
   ]
  },
  {
   "cell_type": "code",
   "execution_count": 2,
   "id": "a0c60a1c-42b1-4b2b-b955-535a220441de",
   "metadata": {},
   "outputs": [],
   "source": [
    "import scipy.optimize"
   ]
  },
  {
   "cell_type": "code",
   "execution_count": 5,
   "id": "2dcfeda3-f1ce-428a-91c4-ede333dd794b",
   "metadata": {},
   "outputs": [
    {
     "name": "stdout",
     "output_type": "stream",
     "text": [
      "X1: 1.5 hours\n",
      "X2: 6.25 hours\n"
     ]
    }
   ],
   "source": [
    "'''\n",
    "50 x1 + 80x2 optimize given:\n",
    "    c1 -> 5x1 + 2x2 <=20\n",
    "    c2 -> -10x1 + -12x2 <=90\n",
    "'''\n",
    "result = scipy.optimize.linprog(\n",
    "    [50,80],\n",
    "    A_ub = [[5,2],[-10,-12]],\n",
    "    b_ub = [20,-90]\n",
    ")\n",
    "if result.success:\n",
    "    print(f\"X1: {round(result.x[0],2)} hours\")\n",
    "    print(f\"X2: {round(result.x[1],2)} hours\")\n",
    "else:\n",
    "    print(\"Yumpossible\")"
   ]
  },
  {
   "cell_type": "code",
   "execution_count": null,
   "id": "a5137ed7-1420-4199-a6e3-15d5e5227a23",
   "metadata": {},
   "outputs": [],
   "source": []
  }
 ],
 "metadata": {
  "kernelspec": {
   "display_name": "Python 3 (ipykernel)",
   "language": "python",
   "name": "python3"
  },
  "language_info": {
   "codemirror_mode": {
    "name": "ipython",
    "version": 3
   },
   "file_extension": ".py",
   "mimetype": "text/x-python",
   "name": "python",
   "nbconvert_exporter": "python",
   "pygments_lexer": "ipython3",
   "version": "3.12.5"
  }
 },
 "nbformat": 4,
 "nbformat_minor": 5
}
